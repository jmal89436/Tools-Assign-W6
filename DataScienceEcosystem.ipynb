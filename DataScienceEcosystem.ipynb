{
 "cells": [
  {
   "cell_type": "code",
   "execution_count": null,
   "id": "798d158e-8b04-4875-a71d-4a244968ccbb",
   "metadata": {},
   "outputs": [],
   "source": [
    "# Data  Science Tools and Ecosystem"
   ]
  },
  {
   "cell_type": "markdown",
   "id": "e2e76134-325e-45de-8015-e977003d64d6",
   "metadata": {},
   "source": [
    "**Objectives**\n",
    "* Python\n",
    "* R\n",
    "* Ggplot"
   ]
  },
  {
   "cell_type": "code",
   "execution_count": null,
   "id": "f1db75f1-4e3c-4e3a-96c9-5fae8b5e82a9",
   "metadata": {},
   "outputs": [],
   "source": [
    "# In this notebook, Data Science tools and ecosystems are summrized"
   ]
  },
  {
   "cell_type": "markdown",
   "id": "6046180c-cc46-4bef-b99a-a66618d9fae2",
   "metadata": {},
   "source": [
    "# Some of the popular languages that Data Scientists use are:  \n",
    "1. Python\n",
    "2. R\n",
    "3. SQL\n",
    "4. Julia\n",
    "    "
   ]
  },
  {
   "cell_type": "markdown",
   "id": "ac31bb04-e1c1-42a7-93ef-5e42e1cb9e6b",
   "metadata": {},
   "source": [
    "##  Some of the commonly used libraries used by Data Scientists include:\n",
    "1. Ggplot2\n",
    "2. Pandas\n",
    "3. Seaborn\n",
    "4. NumPy\n"
   ]
  },
  {
   "cell_type": "markdown",
   "id": "3e4906f1-7d15-4a0e-af4b-77067b214dcc",
   "metadata": {},
   "source": [
    "## Data Science Tools\n",
    "|Data Science Tools|\n",
    "|------------------|\n",
    "|Jupiter Notebook|\n",
    "|R Studio|\n",
    "|VS Code|"
   ]
  },
  {
   "cell_type": "markdown",
   "id": "23645999-bbf8-42e0-9cae-09b02b95fc82",
   "metadata": {},
   "source": [
    "### Below are a few examples of evaluating arithmetic expressions in Python"
   ]
  },
  {
   "cell_type": "code",
   "execution_count": 10,
   "id": "250d797d-7542-4856-afb5-6ac2b843750a",
   "metadata": {},
   "outputs": [
    {
     "data": {
      "text/plain": [
       "17"
      ]
     },
     "execution_count": 10,
     "metadata": {},
     "output_type": "execute_result"
    }
   ],
   "source": [
    "# This a simple arithmetic expression to mutiply then add integers\n",
    "(3*4)+5"
   ]
  },
  {
   "cell_type": "code",
   "execution_count": 12,
   "id": "0f69018d-a7b4-4719-86a4-90514dd091b1",
   "metadata": {},
   "outputs": [
    {
     "data": {
      "text/plain": [
       "3.3333333333333335"
      ]
     },
     "execution_count": 12,
     "metadata": {},
     "output_type": "execute_result"
    }
   ],
   "source": [
    "# This will convert 200 minutes to hours by diving by 60\n",
    "200/60"
   ]
  },
  {
   "cell_type": "markdown",
   "id": "2113d5c2-c29f-4477-a205-b2d761c220ec",
   "metadata": {},
   "source": [
    "## Author\n",
    "John Malysz"
   ]
  }
 ],
 "metadata": {
  "kernelspec": {
   "display_name": "Python 3 (ipykernel)",
   "language": "python",
   "name": "python3"
  },
  "language_info": {
   "codemirror_mode": {
    "name": "ipython",
    "version": 3
   },
   "file_extension": ".py",
   "mimetype": "text/x-python",
   "name": "python",
   "nbconvert_exporter": "python",
   "pygments_lexer": "ipython3",
   "version": "3.11.7"
  }
 },
 "nbformat": 4,
 "nbformat_minor": 5
}
